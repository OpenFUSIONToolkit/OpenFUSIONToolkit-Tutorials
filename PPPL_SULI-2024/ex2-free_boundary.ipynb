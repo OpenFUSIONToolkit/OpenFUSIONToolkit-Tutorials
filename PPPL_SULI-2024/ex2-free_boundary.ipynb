{
 "cells": [
  {
   "cell_type": "markdown",
   "id": "3d5c8578-2d74-4119-8114-956ac850c7f2",
   "metadata": {},
   "source": [
    "# Setup environment\n",
    "\n",
    "## Local install\n",
    "To load the TokaMaker python module we need to tell python where to the module is located. This can be done either through the `PYTHONPATH` environment variable or within the script itself using `sys.path.append()` as below, where we look for the environement variable `OFT_ROOTPATH` to provide the path to where the OpenFUSIONToolkit is installed (`/Applications/OpenFUSIONToolkit` on macOS).\n",
    "\n",
    "## Google collab\n",
    "On Google collab we must download the OFT binary build for Linux from the OFT GitHub page, unpack it in the run directory and add its python directory using `sys.path.append()`. We also download a mesh for ITER from the TokaMaker examples in the main repo. Finally, we also install the [wurlitzer](https://pypi.org/project/wurlitzer/) python package to enable printing of system level I/O from the underlying OFT library."
   ]
  },
  {
   "cell_type": "code",
   "execution_count": null,
   "id": "1cc050b4-87f3-4b3c-9a71-54aab1940ce6",
   "metadata": {},
   "outputs": [],
   "source": [
    "import os\n",
    "import sys\n",
    "try:\n",
    "    from google.colab import output\n",
    "    output.enable_custom_widget_manager()\n",
    "except:\n",
    "    tokamaker_python_path = os.getenv('OFT_ROOTPATH')\n",
    "    if tokamaker_python_path is not None:\n",
    "        sys.path.append(os.path.join(tokamaker_python_path,'python'))\n",
    "    %matplotlib inline\n",
    "    pass\n",
    "else:\n",
    "    !pip install triangle wurlitzer ipympl\n",
    "    OFT_package = 'OpenFUSIONToolkit_v1.0.0-beta4-Linux-GNU-x86_64'\n",
    "    OFT_tarball = 'OpenFUSIONToolkit_v1.0.0-beta4-Ubuntu_20_04-GNU-x86_64.tar.gz'\n",
    "    if not os.path.exists(os.path.join('/content',OFT_package,'python')):\n",
    "        !wget https://github.com/hansec/OpenFUSIONToolkit/releases/download/v1.0.0-beta4/{OFT_tarball}\n",
    "        !tar xzf {OFT_tarball}\n",
    "        !wget https://raw.githubusercontent.com/hansec/OpenFUSIONToolkit/main/src/examples/TokaMaker/ITER/ITER_mesh.h5\n",
    "    OFT_rootpath = os.path.join('/content',OFT_package)\n",
    "    sys.path.append(os.path.join(OFT_rootpath,'python'))\n",
    "    %load_ext wurlitzer\n",
    "    %matplotlib ipympl"
   ]
  },
  {
   "cell_type": "markdown",
   "id": "8c5b82f7-2d23-4a92-89db-c9b4fdc57b31",
   "metadata": {},
   "source": [
    "## Load other Python packages\n",
    "We also import [numpy](https://numpy.org/) and [matplotlib](https://matplotlib.org/) for various uses in the script. Default plotting values are also set here to make things more legible on most platforms. "
   ]
  },
  {
   "cell_type": "code",
   "execution_count": null,
   "id": "da08172c-172c-44fa-b498-cff44eda85c1",
   "metadata": {},
   "outputs": [],
   "source": [
    "import numpy as np\n",
    "import matplotlib.pyplot as plt\n",
    "plt.rcParams['figure.figsize']=(6,6)\n",
    "plt.rcParams['font.weight']='bold'\n",
    "plt.rcParams['axes.labelweight']='bold'\n",
    "plt.rcParams['lines.linewidth']=2\n",
    "plt.rcParams['lines.markeredgewidth']=2"
   ]
  },
  {
   "cell_type": "markdown",
   "id": "7dad6200-9e2a-4425-b31a-74d6533f50af",
   "metadata": {},
   "source": [
    "# Computing equilbria with a known boundary\n",
    "\n",
    "## Load TokaMaker objects from OFT\n",
    "Here we load the components we need from the [OpenFUSIONToolkit](https://github.com/hansec/OpenFUSIONToolkit) python interface. In this example we will use:\n",
    " * [TokaMaker](https://hansec.github.io/OpenFUSIONToolkit/docs/v1.0.0-beta4/classOpenFUSIONToolkit_1_1TokaMaker_1_1__core_1_1TokaMaker.html): The main driver class for computing equilibrium\n",
    " * [load_gs_mesh](https://hansec.github.io/OpenFUSIONToolkit/docs/v1.0.0-beta4/namespaceOpenFUSIONToolkit_1_1TokaMaker_1_1meshing.html#a23cf84933a5bb4a31b8dcc2ef98c37c1): A function to load an existing mesh generated for TokaMaker\n",
    " * [create_isoflux](https://hansec.github.io/OpenFUSIONToolkit/docs/v1.0.0-beta4/namespaceOpenFUSIONToolkit_1_1TokaMaker_1_1util.html#ac5dd5032d63d24acc29c6e1cc39a7505): A helper function that builds surfaces using a standard tokamak definition based on (&kappa; and &delta;)\n",
    " * [create_power_flux_fun](https://hansec.github.io/OpenFUSIONToolkit/docs/v1.0.0-beta4/namespaceOpenFUSIONToolkit_1_1TokaMaker_1_1util.html): A helper function that builds definitions for $P'$ and $F*F'$ with a simple power-like form"
   ]
  },
  {
   "cell_type": "code",
   "execution_count": null,
   "id": "6ce44c7f-0fa7-4e30-8840-badc6a30c45b",
   "metadata": {},
   "outputs": [],
   "source": []
  },
  {
   "cell_type": "markdown",
   "id": "1677a4da-2af0-423c-a441-73d880632c74",
   "metadata": {},
   "source": [
    "## Setup ITER model\n",
    "\n",
    "### Initialize TokaMaker object\n",
    "Now that we have a mesh we can create a TokaMaker instance to use for equilibrium calculations. Note at present only a single instance can be used per python kernel, so this command should only be called **once** in a given Jupyter notebook or python script. In the future this restriction may be relaxed."
   ]
  },
  {
   "cell_type": "code",
   "execution_count": null,
   "id": "01791fe9-2e53-46d1-8802-4ab1ea3889d4",
   "metadata": {},
   "outputs": [],
   "source": []
  },
  {
   "cell_type": "markdown",
   "id": "8075a95c-e9f9-481c-9a28-1be7a77a3cc8",
   "metadata": {},
   "source": [
    "### Load mesh into TokaMaker\n",
    "Now we load a mesh for ITER using [load_gs_mesh](https://hansec.github.io/OpenFUSIONToolkit/docs/v1.0.0-beta4/namespaceOpenFUSIONToolkit_1_1TokaMaker_1_1meshing.html#a23cf84933a5bb4a31b8dcc2ef98c37c1). Once loaded the mesh is passed to TokaMaker using [setup_mesh](https://hansec.github.io/OpenFUSIONToolkit/docs/v1.0.0-beta4/classOpenFUSIONToolkit_1_1TokaMaker_1_1__core_1_1TokaMaker.html#aeebfee91bbc5bb6541004aa4086fc6fe). Finally, we call [setup](https://hansec.github.io/OpenFUSIONToolkit/docs/v1.0.0-beta4/classOpenFUSIONToolkit_1_1TokaMaker_1_1__core_1_1TokaMaker.html#add88b096976310b2af286559c504ebfe) to setup the required solver objects. During this call we also specify the vacuum toroidal field through $F_0 = B_0*R_0$, where $B_0$ is the toroidal field at a reference location $R_0$. Here we use ITER-typical values of 5.3 T @ 6.2 m."
   ]
  },
  {
   "cell_type": "code",
   "execution_count": null,
   "id": "dbe5ba91-5407-47cd-a8d9-95c6e3dc2d4f",
   "metadata": {},
   "outputs": [],
   "source": []
  },
  {
   "cell_type": "markdown",
   "id": "a5430cc9-f6f3-478e-954e-9e61a1a94997",
   "metadata": {},
   "source": [
    "### Plot geometry\n",
    "We can view the machine geometry using the [plot_machine](https://hansec.github.io/OpenFUSIONToolkit/docs/v1.0.0-beta4/classOpenFUSIONToolkit_1_1TokaMaker_1_1__core_1_1TokaMaker.html#a81aa74a32baf549b801da814117642bb) subroutine. In this case we color the poloidal field coils in green and the two vacuum vessel shells in blue. The limiter surface is also shown as the thick black contour."
   ]
  },
  {
   "cell_type": "code",
   "execution_count": null,
   "id": "4d09959f-abaa-4df6-a97e-30875bbd8c44",
   "metadata": {},
   "outputs": [],
   "source": []
  },
  {
   "cell_type": "markdown",
   "id": "a27c70e0-9b64-4b8b-a31d-a1b430c1be8d",
   "metadata": {},
   "source": [
    "### Define hard limits on coil currents\n",
    "Hard limits on coil currents can be set using [set_coil_bounds](https://hansec.github.io/OpenFUSIONToolkit/docs/v1.0.0-beta4/classOpenFUSIONToolkit_1_1TokaMaker_1_1__core_1_1TokaMaker.html#a733c9b2d014ad79e3a81fc5fd11f3418). In this case we just the simple and approximate bi-directional limit of 50 MA-turns in each coil by creating an [ncoils+1,2] array with suitable values."
   ]
  },
  {
   "cell_type": "code",
   "execution_count": null,
   "id": "208c1f21-8fe0-4fde-8904-a4a1c36353a1",
   "metadata": {},
   "outputs": [],
   "source": []
  },
  {
   "cell_type": "markdown",
   "id": "b7aad281-f756-4624-9a4b-8af1f8c1cdb8",
   "metadata": {},
   "source": [
    "### Define coil regularization matrix\n",
    "In general, for a given coil set a given plasma shape cannot be exactly reproduced, which generally yields large amplitude coil currents if no constraint on the coil currents is applied. As a result, it is useful to include regularization terms for the coils to balance minimization of the shape error with the amplitude of current in the free coils. In TokaMaker these regularization terms have the general form of a vector of targets (often zero), a regularization matrix that maps the coil currents to the targets, and a vector of weights that can be used to control the relative impact of each term in the minimization.\n",
    "\n",
    "Here we use the identity as the regularization matrix, with zero for all targets and modest weights on all coils. This regularization acts to penalize the amplitude of current in each coil, acting to balance coil current with error in the shape targets."
   ]
  },
  {
   "cell_type": "code",
   "execution_count": null,
   "id": "a154cf30-229d-480d-bfcc-df7ad44a8dea",
   "metadata": {},
   "outputs": [],
   "source": []
  },
  {
   "cell_type": "markdown",
   "id": "b913119f-369a-4c09-a457-7bd15f5ee8ac",
   "metadata": {},
   "source": [
    "## Compute Inverse Equilibrium\n",
    "\n",
    "### Define shape targets\n",
    "In free-boundary coil currents must be adjusted to achieve a desired plasma shape. In TokaMaker this is done by adding constraints on the poloidal flux that act to enforce the shape of the plasma. In TokaMaker we generalize utilize two types of constraints:\n",
    " 1. `isoflux` points, which are points we want to lie on the same flux surface (eg. the LCFS)\n",
    " 2. `saddle` points, where we want the poloidal magnetic field to vanish (eg. X-points)\n",
    "\n",
    "**Note:** These constraints can be considered \"soft\" constraints, where the calculation attempts to minimize error in satisfying these constraints subject to other constraints and regularization.\n",
    "\n",
    "Here we define a handful of isoflux points that we want to lie on the LCFS of the target equilibrium using the same boundary shape as in [example 1]()."
   ]
  },
  {
   "cell_type": "code",
   "execution_count": null,
   "id": "ab17451d-654a-424b-9ad6-8f2af229099a",
   "metadata": {},
   "outputs": [],
   "source": []
  },
  {
   "cell_type": "markdown",
   "id": "ff22d378-5ffc-4b33-b4b5-7e1dcc48bbd6",
   "metadata": {},
   "source": [
    "### Define flux functions\n",
    "Here we define flux functions for $P'$ and $F*F'$ for use in the G-S solve. In this case we will use L-mode-like profiles of the form $((1-\\hat{\\psi})^{\\alpha})^{\\gamma}$, where $\\alpha$ and $\\gamma$ are set differently for $P'$ and $F*F'$ to provide broad ($\\alpha=1.5, \\gamma=2.0$) and peaked ($\\alpha=4.0, \\gamma=1.0$) profiles respectively.\n",
    "\n",
    "After building the profiles they can be plotted using the `'x'` and `'y'` dictionary fields.\n",
    "\n",
    "Finally, the profiles are set in TokaMaker using the `set_profiles()` method."
   ]
  },
  {
   "cell_type": "code",
   "execution_count": null,
   "id": "deb682fe-d8e7-4866-9d43-35940997a901",
   "metadata": {},
   "outputs": [],
   "source": []
  },
  {
   "cell_type": "markdown",
   "id": "0d7fc693-73b5-4d79-b184-fbace8eae2ae",
   "metadata": {},
   "source": [
    "### Define global quantities and targets\n",
    "For the Grad-Shafranov solve we also define targets for the plasma current ($I_P$) and the ratio of the contributions of $P'$ and $F*F'$ to the total plasma current (`Ip_ratio`), which is related to $\\beta_p$ as Ip_ratio = $1/\\beta_p - 1$. This is done through a call to [set_targets](https://hansec.github.io/OpenFUSIONToolkit/docs/v1.0.0-beta4/classOpenFUSIONToolkit_1_1TokaMaker_1_1__core_1_1TokaMaker.html#ac9798f691c087d62259ceda8ebe6b0ab). During solution the scale of the $P'$ and $F*F'$ profiles will be adjusted to match these targets."
   ]
  },
  {
   "cell_type": "code",
   "execution_count": null,
   "id": "1affc6e3-4afc-45b2-86f8-54cb579591dd",
   "metadata": {},
   "outputs": [],
   "source": []
  },
  {
   "cell_type": "markdown",
   "id": "ee88ffce-6efe-4165-b8f0-563fe715d366",
   "metadata": {},
   "source": [
    "### Initialize $\\psi$\n",
    "We can now compute a free-boundary equilibrium using these constraints. Note that before running a calculation for the first time we must initialize the flux function $\\psi$, which can be done using [init_psi](https://hansec.github.io/OpenFUSIONToolkit/docs/v1.0.0-beta4/classOpenFUSIONToolkit_1_1TokaMaker_1_1__core_1_1TokaMaker.html#ae532f03c0978180dbd5677e1432a9f7f). This subroutine initializes the flux using the specified Ip_target from above, which is evenly distributed over a boundary defined using a center point (R,Z), minor radius (a), and elongation ($\\kappa$) and triangularity ($\\delta$). Coil currents are also initialized at this point using the constraints above and this uniform plasma current."
   ]
  },
  {
   "cell_type": "code",
   "execution_count": null,
   "id": "5a18620e-902c-4613-bcfb-ff5b00237eba",
   "metadata": {},
   "outputs": [],
   "source": []
  },
  {
   "cell_type": "markdown",
   "id": "e10a2179-774e-4202-92cf-76aa772a0d92",
   "metadata": {},
   "source": [
    "### Compute Grad-Shafranov equilibrium\n",
    "Now we can compute the full equilibrium using [solve](https://hansec.github.io/OpenFUSIONToolkit/docs/v1.0.0-beta4/classOpenFUSIONToolkit_1_1TokaMaker_1_1__core_1_1TokaMaker.html#acae14bbdb859253db974e30b7c92be02).\n",
    "\n",
    "The output should show convergence of the residual (fourth column) as the nonlinear Grad-Shafranov equation is solved."
   ]
  },
  {
   "cell_type": "code",
   "execution_count": null,
   "id": "405dc3f9-8017-4054-b1e4-015c8019ff1a",
   "metadata": {},
   "outputs": [],
   "source": []
  },
  {
   "cell_type": "markdown",
   "id": "1c839935-f433-4068-8047-e5518b8ea3eb",
   "metadata": {},
   "source": [
    "### Print information and plot equilibrium\n",
    "After computing the equilibrium, basic parameters can be displayed using the [print_info](https://hansec.github.io/OpenFUSIONToolkit/docs/v1.0.0-beta4/classOpenFUSIONToolkit_1_1TokaMaker_1_1__core_1_1TokaMaker.html#a46c8bde43e120175614bb373c18a970c) method. For access to these quantities as variables instead the [get_stats](https://hansec.github.io/OpenFUSIONToolkit/docs/v1.0.0-beta4/classOpenFUSIONToolkit_1_1TokaMaker_1_1__core_1_1TokaMaker.html#a30af13a91045f3a12a6a1f59239cce2b) can be used."
   ]
  },
  {
   "cell_type": "code",
   "execution_count": null,
   "id": "94356de0-79ef-4f0b-b7bb-4c9217a2449b",
   "metadata": {},
   "outputs": [],
   "source": []
  },
  {
   "cell_type": "markdown",
   "id": "4f7aec8f-1d70-48c2-a197-385d02c61475",
   "metadata": {},
   "source": [
    "As above we can plot the machine geometry, including current in each coil set, using the [plot_machine](https://hansec.github.io/OpenFUSIONToolkit/docs/v1.0.0-beta4/classOpenFUSIONToolkit_1_1TokaMaker_1_1__core_1_1TokaMaker.html#a81aa74a32baf549b801da814117642bb) subroutine. Then flux surfaces can be added to the plot using [plot_psi](https://hansec.github.io/OpenFUSIONToolkit/docs/v1.0.0-beta4/classOpenFUSIONToolkit_1_1TokaMaker_1_1__core_1_1TokaMaker.html#a61550b8069c6e27d978fac742b620089). Constraints can also be added using the [plot_constraints](https://hansec.github.io/OpenFUSIONToolkit/docs/v1.0.0-beta4/classOpenFUSIONToolkit_1_1TokaMaker_1_1__core_1_1TokaMaker.html#a44cfe034255bb6439b2b1f9304c77b52) subroutine."
   ]
  },
  {
   "cell_type": "code",
   "execution_count": null,
   "id": "a6de5600-f3d1-42f4-ac61-f4b6596e3d53",
   "metadata": {},
   "outputs": [],
   "source": []
  },
  {
   "cell_type": "markdown",
   "id": "8644ca2d-4e9a-4dd7-a8a7-1b35511c5fed",
   "metadata": {},
   "source": [
    "# Scan shape parameters\n",
    "\n",
    "Before performing a scan we can turn off the progress printing from above by adjusting the `pm` setting to False and calling `update_settings()`."
   ]
  },
  {
   "cell_type": "code",
   "execution_count": null,
   "id": "15b67eb2-87a9-4577-9695-29b6706c0a00",
   "metadata": {},
   "outputs": [],
   "source": []
  },
  {
   "cell_type": "markdown",
   "id": "18ac3cd0-16df-4b95-b5c9-f558b35a6791",
   "metadata": {},
   "source": [
    "Here we define a simple helper function to produce formatted plots of the equilibrium and coil currents."
   ]
  },
  {
   "cell_type": "code",
   "execution_count": null,
   "id": "af4c5868-7038-4dc9-a2a1-7b95dfc672c8",
   "metadata": {},
   "outputs": [],
   "source": [
    "def formatted_plot(gs_obj,title):\n",
    "    fig, ax = plt.subplots(1,1,constrained_layout=True)\n",
    "    ax.set_title(title)\n",
    "    gs_obj.plot_machine(fig,ax,coil_colormap='seismic',coil_symmap=True,coil_scale=1.E-6,coil_clabel=r'$I_C$ [MA]')\n",
    "    gs_obj.plot_psi(fig,ax,xpoint_color=None,vacuum_nlevels=4)\n",
    "    gs_obj.plot_constraints(fig,ax,isoflux_color='tab:red',isoflux_marker='o')\n",
    "    ax.set_ylabel('Z [m]')\n",
    "    ax.set_xlabel('R [m]')\n",
    "\n",
    "def formatted_coil_plot(gs_obj):\n",
    "    coil_names = ['' for _ in range(mygs.ncoils)]\n",
    "    for key, value in mygs.coil_sets.items():\n",
    "        coil_names[value['id']] = key\n",
    "    #\n",
    "    curr_fig, curr_ax = plt.subplots(1,1,figsize=(8,4),constrained_layout=True)\n",
    "    curr_ax.grid(True)\n",
    "    curr_ax.set_ylabel('Coil current [MA-turn]')\n",
    "    curr_ax.set_xlabel('Coil set')\n",
    "    curr_ax.set_xlim(0,mygs.ncoils-1)\n",
    "    curr_ax.set_xticks(range(mygs.ncoils))\n",
    "    curr_ax.set_xticklabels(coil_names)\n",
    "    return curr_ax"
   ]
  },
  {
   "cell_type": "markdown",
   "id": "0e6c9b01-229f-4a14-bc0b-a21445ec9c4e",
   "metadata": {},
   "source": [
    "## Scan elongation ($\\kappa$)\n",
    "\n",
    "Now we will perform a scan of elongation ($\\kappa$) by adjusting the isoflux targets. At each value we re-solve the G-S equation and plot the evolution of the coil currents (from `get_coil_currents()`) and plasma equilibrium.\n",
    "\n",
    "As the elongation increases currents in the upper/lower coils need to change to pull the plasma up, while the outer coil currents must increase to maintain force balance."
   ]
  },
  {
   "cell_type": "code",
   "execution_count": null,
   "id": "c211010a-18ac-46eb-97b2-52968390ab05",
   "metadata": {},
   "outputs": [],
   "source": [
    "curr_ax = formatted_coil_plot(mygs)\n",
    "for kappa_target_tmp in np.linspace(1.0,1.6,7):\n",
    "    \n",
    "    # Set new target for kappa\n",
    "    LCFS_contour = create_isoflux(nTargets,R0_target,Z0_target,r_minor_target,kappa_target_tmp,delta_target)\n",
    "    mygs.set_isoflux(LCFS_contour)\n",
    "    \n",
    "    # Re-solve\n",
    "    err_flag = mygs.solve()\n",
    "    \n",
    "    # Plot coil currents\n",
    "    currents, _ = mygs.get_coil_currents()\n",
    "    curr_ax.plot(currents/1.E6,label=r'$\\kappa = {0:.1f}$'.format(kappa_target_tmp))\n",
    "    \n",
    "    # Plot\n",
    "    formatted_plot(mygs,r'$\\kappa = {0:.1f}$'.format(kappa_target_tmp))\n",
    "\n",
    "# Draw legend\n",
    "_ = curr_ax.legend(ncols=3)"
   ]
  },
  {
   "cell_type": "markdown",
   "id": "2ec458d1-87c2-4de9-98ec-dadef0d483d9",
   "metadata": {},
   "source": [
    "## Scan triangularity ($\\delta$)\n",
    "Now we will perform a scan of triangularity ($\\delta$) while maintaining $\\kappa=1.6$ by adjusting the isoflux targets. At each value we re-solve the G-S equation and plot the evolution of the coil currents (from `get_coil_currents()`) and plasma equilibrium.\n",
    "\n",
    "As the triangularity increases the maximum coil current continues to increase. Eventually an X-point is formed at the top of the device producing a diverted equilibrium. However, in ITER the divertor is located on the bottom of the device, so this would be a very bad equilibrium in ITER!!"
   ]
  },
  {
   "cell_type": "code",
   "execution_count": null,
   "id": "6728fb2a-04a8-4bb4-b857-0a40c78a8bc1",
   "metadata": {},
   "outputs": [],
   "source": [
    "kappa_target = 1.6\n",
    "curr_ax = formatted_coil_plot(mygs)\n",
    "for delta_target_tmp in np.linspace(0.0,0.5,6):\n",
    "    \n",
    "    # Set new target for delta\n",
    "    LCFS_contour = create_isoflux(nTargets,R0_target,Z0_target,r_minor_target,kappa_target,delta_target_tmp)\n",
    "    mygs.set_isoflux(LCFS_contour)\n",
    "    \n",
    "    # Resolve\n",
    "    err_flag = mygs.solve()\n",
    "    \n",
    "    # Plot coil currents\n",
    "    currents, _ = mygs.get_coil_currents()\n",
    "    curr_ax.plot(currents/1.E6,label=r'$\\delta = {0:.1f}$'.format(delta_target_tmp))\n",
    "    \n",
    "    # Plot\n",
    "    formatted_plot(mygs,r'$\\delta = {0:.1f}$'.format(delta_target_tmp))\n",
    "\n",
    "# Draw legend\n",
    "_ = curr_ax.legend(ncols=3)"
   ]
  },
  {
   "cell_type": "markdown",
   "id": "f8994c7c-4d9d-4bfa-9f82-aef5534cebb6",
   "metadata": {},
   "source": [
    "# Choose your own adventure\n",
    "\n",
    " * What is the highest stored energy you can get?\n",
    " * What is the higher plasma current you can get?\n",
    " * Can you get the shape you want while keeping the OH coils all one direction?\n",
    " * What does the safety factor ($q$) look like as we adjust the shape?\n",
    " * Where can you place the X-point and strike points?"
   ]
  }
 ],
 "metadata": {
  "kernelspec": {
   "display_name": "Python 3 (ipykernel)",
   "language": "python",
   "name": "python3"
  },
  "language_info": {
   "codemirror_mode": {
    "name": "ipython",
    "version": 3
   },
   "file_extension": ".py",
   "mimetype": "text/x-python",
   "name": "python",
   "nbconvert_exporter": "python",
   "pygments_lexer": "ipython3",
   "version": "3.11.9"
  }
 },
 "nbformat": 4,
 "nbformat_minor": 5
}
