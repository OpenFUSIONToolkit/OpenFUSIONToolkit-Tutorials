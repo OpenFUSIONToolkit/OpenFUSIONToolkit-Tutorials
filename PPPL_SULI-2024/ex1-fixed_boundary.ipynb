{
 "cells": [
  {
   "cell_type": "markdown",
   "id": "ac9653cb-be87-46f2-8fec-45083f64ace5",
   "metadata": {},
   "source": [
    "# Setup environment\n",
    "\n",
    "## Local install\n",
    "To load the TokaMaker python module we need to tell python where to the module is located. This can be done either through the `PYTHONPATH` environment variable or within the script itself using `sys.path.append()` as below, where we look for the environement variable `OFT_ROOTPATH` to provide the path to where the OpenFUSIONToolkit is installed (`/Applications/OpenFUSIONToolkit` on macOS).\n",
    "\n",
    "## Google collab\n",
    "On Google collab we must download the OFT binary build for Linux from the OFT GitHub page, unpack it in the run directory and add its python directory using `sys.path.append()`. We also install the [wurlitzer](https://pypi.org/project/wurlitzer/) python package to enable printing of system level I/O from the underlying OFT library."
   ]
  },
  {
   "cell_type": "code",
   "execution_count": null,
   "id": "c4bd47af-86b1-4a09-88d1-c719f188e7ca",
   "metadata": {},
   "outputs": [],
   "source": [
    "import os\n",
    "import sys\n",
    "try:\n",
    "    from google.colab import output\n",
    "    output.enable_custom_widget_manager()\n",
    "except:\n",
    "    tokamaker_python_path = os.getenv('OFT_ROOTPATH')\n",
    "    if tokamaker_python_path is not None:\n",
    "        sys.path.append(os.path.join(tokamaker_python_path,'python'))\n",
    "    %matplotlib inline\n",
    "    pass\n",
    "else:\n",
    "    !pip install triangle wurlitzer ipympl\n",
    "    OFT_package = 'OpenFUSIONToolkit_v1.0.0-beta4-Linux-GNU-x86_64'\n",
    "    OFT_tarball = 'OpenFUSIONToolkit_v1.0.0-beta4-Ubuntu_20_04-GNU-x86_64.tar.gz'\n",
    "    if not os.path.exists(os.path.join('/content',OFT_package,'python')):\n",
    "        !wget https://github.com/hansec/OpenFUSIONToolkit/releases/download/v1.0.0-beta4/{OFT_tarball}\n",
    "        !tar xzf {OFT_tarball}\n",
    "    OFT_rootpath = os.path.join('/content',OFT_package)\n",
    "    sys.path.append(os.path.join(OFT_rootpath,'python'))\n",
    "    %load_ext wurlitzer\n",
    "    %matplotlib ipympl"
   ]
  },
  {
   "cell_type": "markdown",
   "id": "e990537b-ad7f-4323-a9f3-cb2d488554cf",
   "metadata": {},
   "source": [
    "## Load other Python packages\n",
    "We also import [numpy](https://numpy.org/) and [matplotlib](https://matplotlib.org/) for various uses in the script. Default plotting values are also set here to make things more legible on most platforms. "
   ]
  },
  {
   "cell_type": "code",
   "execution_count": null,
   "id": "ce722aed-d145-43d3-a212-bbe414c4487b",
   "metadata": {},
   "outputs": [],
   "source": [
    "import numpy as np\n",
    "import matplotlib.pyplot as plt\n",
    "plt.rcParams['figure.figsize']=(6,6)\n",
    "plt.rcParams['font.weight']='bold'\n",
    "plt.rcParams['axes.labelweight']='bold'\n",
    "plt.rcParams['lines.linewidth']=2\n",
    "plt.rcParams['lines.markeredgewidth']=2"
   ]
  },
  {
   "cell_type": "markdown",
   "id": "01c3b343-e4d0-4cf9-9286-37e81d1f3a95",
   "metadata": {},
   "source": [
    "# A primer on tokamak equilibrium\n",
    "\n",
    "## Plasma shaping\n",
    "\n",
    "<p>In tokamaks the shape of the plasma has a strong impact on the performance, stability, and other aspects important for a reactor. As a result, the shape of the plasma is one of the primary considerations in the design of tokamak-based reactors.</p>\n",
    "\n",
    "<div style=\"text-align:center\" >\n",
    "<img src=\"images/ITER_shape.png\" width=\"40%;\" style=\"display:block;margin-left:auto;margin-right:auto;\" />\n",
    "<em style=\"text-align:center;display:block;margin-left:auto;margin-right:auto;margin-top:0.5em;\">Example equilibrium in ITER showing the shape of the plasma (color contours).</em>\n",
    "</div>\n",
    "\n",
    "<hr width=\"0\" size=\"1 em\" style=\"border-width:0\" />\n",
    "\n",
    "<p>In tokamaks the shape of the plasma has a strong impact on the performance, stability, and other aspects important for a reactor. As a result, the shape of the plasma is one of the primary considerations in the design of tokamak-based reactors. The shape of the plasma is principally defined based on the currents in the poloidal field coils (whose current flows toroidally), which push and pull against the plasma current (which also flows toroidally) through the Lorentz force.</p>\n",
    "\n",
    "<p>A given equilibrium is usually labelled by the shape of its boundary, also called the Last Closed Flux Surface (LCFS), which is described using a Fourier-like representation. These quantities correspond in order of decreasing spatial scale as elongation &kappa; (m=2), triangularity &delta; (m=3), and squareness &zeta; (m=4). The displacement of internal surfaces relative to the boundary surface (m=1) is called the Shafranov shift and is related to how much thermal energy is confined relative to the magnetic field (&beta;).</p>\n",
    "\n",
    "<hr width=\"0\" size=\"1 em\" style=\"border-width:0\" />\n",
    "\n",
    "<div style=\"text-align:center\">\n",
    "<img src=\"images/shape_params.png\" width=\"40%;\" style=\"display:block;margin-left:auto;margin-right:auto;\"/>\n",
    "<em style=\"text-align:center;display:block;margin-left:auto;margin-right:auto;margin-top:0.5em;\">Heirarchy of shaping parameters for tokamak equilibria</em>\n",
    "</div>\n",
    "\n",
    "<h2>Internal profiles</h2>\n",
    "\n",
    "<p>In addition to the shape of the plasma boundary we also need to design the internal characteristics of the plasma by setting profiles for the $P'$ and $F*F'$ source terms on the right hand side of the Grad-Shafranov equation. Remember that these source terms relate to the confining and force-free currents that flow in the plasma. The total plasma pressure, which sets $P'$, is a combination of the pressures of the various species, which consist of electrons and multiple ion species (eg. D, T, He), which depends on their densities and temperatures. Additionally, in a tokamak the plasma current, from both $P'$ and $F*F', must be sustained using external means or self-generated via the so-called \"bootstrap\" effect.</p>\n",
    "\n",
    "<hr width=\"0\" size=\"1 em\" style=\"border-width:0\" />\n",
    "\n",
    "<div style=\"text-align:center\">\n",
    "<img src=\"images/SPARC_profiles.png\" width=\"60%;\" style=\"display:block;margin-left:auto;margin-right:auto;\"/>\n",
    "<em style=\"text-align:center;display:block;margin-left:auto;margin-right:auto;margin-top:0.5em;\">Example of plasma shape (left) and kinetic (center) and current (right) profile predictions from design of the SPARC tokamak [<a href=\"https://doi.org/10.1017/S0022377820001075\">Rodriguez-Fernandez et al., J. Plasma Phys. (2020)</a>].</em>\n",
    "</div>\n",
    "\n",
    "<h2>Putting it together</h2>\n",
    "\n",
    "<p>When designing a new tokamak engineers can use an equilibrium tool, like TokaMaker, to compute candidate equilibrium with different shapes and internal profiles to find the configuration that best balances performance, operational, and other objectives. Quantities like fusion power, required heating & current drive power, required shielding, breeding ratio, magnet location, etc. are all dependent on the characteristics of this core plasma.</p>\n",
    "\n",
    "<hr width=\"0\" size=\"1 em\" style=\"border-width:0\" />\n",
    "\n",
    "<div style=\"text-align:center\">\n",
    "<img src=\"images/POPCON_ex.png\" width=\"40%;\" style=\"display:block;margin-left:auto;margin-right:auto;\"/>\n",
    "<em style=\"text-align:center;display:block;margin-left:auto;margin-right:auto;margin-top:0.5em;\">Example of high-level design optimization for the SPARC tokamak using a fixed plasma shape [<a href=\"https://doi.org/10.1017/S0022377820001257\">Creely et al., J. Plasma Phys. (2020)</a>].</em>\n",
    "</div>"
   ]
  },
  {
   "cell_type": "markdown",
   "id": "71c3cbc8-3822-4025-b006-68faa571143a",
   "metadata": {},
   "source": [
    "# Computing equilbria with a known boundary\n",
    "\n",
    "## Load TokaMaker objects from OFT\n",
    "Here we load the components we need from the [OpenFUSIONToolkit](https://github.com/hansec/OpenFUSIONToolkit) python interface. In this example we will use:\n",
    " * [TokaMaker](https://hansec.github.io/OpenFUSIONToolkit/docs/v1.0.0-beta4/classOpenFUSIONToolkit_1_1TokaMaker_1_1__core_1_1TokaMaker.html): The main driver class for computing equilibrium\n",
    " * [gs_Domain](https://hansec.github.io/OpenFUSIONToolkit/docs/v1.0.0-beta4/classOpenFUSIONToolkit_1_1TokaMaker_1_1meshing_1_1gs__Domain.html): A class for defining geometry for the plasma and other device components\n",
    " * [create_isoflux](https://hansec.github.io/OpenFUSIONToolkit/docs/v1.0.0-beta4/namespaceOpenFUSIONToolkit_1_1TokaMaker_1_1util.html#ac5dd5032d63d24acc29c6e1cc39a7505): A helper function that builds surfaces using a standard tokamak definition based on (&kappa; and &delta;)\n",
    " * [create_power_flux_fun](https://hansec.github.io/OpenFUSIONToolkit/docs/v1.0.0-beta4/namespaceOpenFUSIONToolkit_1_1TokaMaker_1_1util.html): A helper function that builds definitions for $P'$ and $F*F'$ with a simple power-like form"
   ]
  },
  {
   "cell_type": "code",
   "execution_count": null,
   "id": "c5107636-4e94-4eca-8fbb-99d6852b18af",
   "metadata": {},
   "outputs": [],
   "source": []
  },
  {
   "cell_type": "markdown",
   "id": "8e87d90b-3fa3-48ec-a60f-5fdd2de59a18",
   "metadata": {},
   "source": [
    "### Define boundary\n",
    "First let's define the boundary of the equilibrium we want to compute. We'll do this using the [create_isoflux](https://hansec.github.io/OpenFUSIONToolkit/docs/v1.0.0-beta4/namespaceOpenFUSIONToolkit_1_1TokaMaker_1_1util.html#ac5dd5032d63d24acc29c6e1cc39a7505) method, which returns a curve parameterized using a center point (R,Z), minor radius (a), and elongation (&kappa;) and triangularity (&delta;). For this case we will define a circular plasma ($\\kappa=1, \\delta=0$) with ITER-like size of 6.3 m major radius and 2 m minor radius."
   ]
  },
  {
   "cell_type": "code",
   "execution_count": null,
   "id": "a7c9d95a-de37-4d3c-bda4-5b6d13400f9b",
   "metadata": {},
   "outputs": [],
   "source": []
  },
  {
   "cell_type": "markdown",
   "id": "1f0d2f8f-ec29-4f8b-9adf-e33d536fb884",
   "metadata": {},
   "source": [
    "### Generate TokaMaker mesh\n",
    "TokaMaker solves for equilibria by representing the solution using a finite element representation on a triangular mesh. Here we build a suitable mesh using the [gs_Domain](https://hansec.github.io/OpenFUSIONToolkit/docs/v1.0.0-beta4/classOpenFUSIONToolkit_1_1TokaMaker_1_1meshing_1_1gs__Domain.html) class. To build a mesh we first define the logical regions using `define_region()` and then add the geometry itself using `add_polygon()`, where other shape types are also available.\n",
    "\n",
    "In this example we have on a single `plasma` region, with a grid resolution of 1/15 the minor radius. The boundary of this region is the LCFS contour computed above.\n",
    "\n",
    "Once the geometry is defined we can generate the actual mesh using `build_mesh()`. This step may take a few moments as the [triangle](https://www.cs.cmu.edu/~quake/triangle.html) library generates the triangular mesh. The resulting mesh is stored a list of points `mesh_pts` of size (np,2), a list of cells formed from three points each `mesh_lc` of size (nc,3), and an array providing a region id number for each cell `mesh_reg` of size (nc,)."
   ]
  },
  {
   "cell_type": "code",
   "execution_count": null,
   "id": "d7b6ade1-bbd1-40e2-a538-850e5477c265",
   "metadata": {},
   "outputs": [],
   "source": []
  },
  {
   "cell_type": "markdown",
   "id": "2de7797e-5ee8-4136-9d06-6e7896bb7fb8",
   "metadata": {},
   "source": [
    "### Plot resulting regions and grid\n",
    "We can use `plot_mesh()` to view the mesh and inspect it for any errors."
   ]
  },
  {
   "cell_type": "code",
   "execution_count": null,
   "id": "6cb2f4b1-2dc6-402e-bee3-dddd1cd5fd73",
   "metadata": {},
   "outputs": [],
   "source": []
  },
  {
   "cell_type": "markdown",
   "id": "151830f1-5252-49c2-976d-220b8ba7d257",
   "metadata": {},
   "source": [
    "## Compute equilibria\n",
    "\n",
    "### Initialize TokaMaker object\n",
    "Now that we have a mesh we can create a TokaMaker instance to use for equilibrium calculations. Note at present only a single instance can be used per python kernel, so this command should only be called **once** in a given Jupyter notebook or python script. In the future this restriction may be relaxed."
   ]
  },
  {
   "cell_type": "code",
   "execution_count": null,
   "id": "582478fc-b236-4a57-9440-9567b76d2370",
   "metadata": {},
   "outputs": [],
   "source": []
  },
  {
   "cell_type": "markdown",
   "id": "0273d8a3-ea97-48c7-b6a1-1fdc5bb349fd",
   "metadata": {},
   "source": [
    "### Load mesh into TokaMaker\n",
    "Now we load the mesh generated above using [setup_mesh](https://hansec.github.io/OpenFUSIONToolkit/docs/v1.0.0-beta4/classOpenFUSIONToolkit_1_1TokaMaker_1_1__core_1_1TokaMaker.html#aeebfee91bbc5bb6541004aa4086fc6fe) and set the code to operate in fixed boundary mode by setting the `free_boundary` setting to False. Finally, we call [setup](https://hansec.github.io/OpenFUSIONToolkit/docs/v1.0.0-beta4/classOpenFUSIONToolkit_1_1TokaMaker_1_1__core_1_1TokaMaker.html#add88b096976310b2af286559c504ebfe) to setup the required solver objects. During this call we also specify the vacuum toroidal field through $F_0 = B_0*R_0$, where $B_0$ is the toroidal field at a reference location $R_0$. Here we use ITER-like values of 5.3 T @ 6.2 m.\n",
    "\n",
    "**Note:** If you would like to change the mesh without restarting the notebook use [reset](https://hansec.github.io/OpenFUSIONToolkit/docs/v1.0.0-beta4/classOpenFUSIONToolkit_1_1TokaMaker_1_1__core_1_1TokaMaker.html#a51829b63adb24ac48d350dee60181002) to clear the current mesh and call `setup_mesh()` and `setup()` again with the new mesh."
   ]
  },
  {
   "cell_type": "code",
   "execution_count": null,
   "id": "df2e5d70-392a-4c17-b939-eb4eca4e7b9c",
   "metadata": {},
   "outputs": [],
   "source": []
  },
  {
   "cell_type": "markdown",
   "id": "6602bc30-558c-4bbf-8318-69519d483880",
   "metadata": {},
   "source": [
    "### Define flux functions\n",
    "Here we define flux functions for $P'$ and $F*F'$ for use in the G-S solve. In this case we will use L-mode-like profiles of the form $((1-\\hat{\\psi})^{\\alpha})^{\\gamma}$, where $\\alpha$ and $\\gamma$ are set differently for $P'$ and $F*F'$ to provide broad ($\\alpha=1.5, \\gamma=2.0$) and peaked ($\\alpha=4.0, \\gamma=1.0$) profiles respectively.\n",
    "\n",
    "After building the profiles they can be plotted using the `'x'` and `'y'` dictionary fields.\n",
    "\n",
    "Finally, the profiles are set in TokaMaker using the `set_profiles()` method."
   ]
  },
  {
   "cell_type": "code",
   "execution_count": null,
   "id": "d17ce449-05da-46ff-8ded-303408c706f8",
   "metadata": {},
   "outputs": [],
   "source": []
  },
  {
   "cell_type": "markdown",
   "id": "1585ebb1-181c-46c6-8951-f79b7abc57b0",
   "metadata": {},
   "source": [
    "### Define global quantities and targets\n",
    "For the Grad-Shafranov solve we also define targets for the plasma current ($I_P$) and the ratio of the contributions of $P'$ and $F*F'$ to the total plasma current (`Ip_ratio`), which is related to $\\beta_p$ as Ip_ratio = $1/\\beta_p - 1$. This is done through a call to [set_targets](https://hansec.github.io/OpenFUSIONToolkit/docs/v1.0.0-beta4/classOpenFUSIONToolkit_1_1TokaMaker_1_1__core_1_1TokaMaker.html#ac9798f691c087d62259ceda8ebe6b0ab). During solution the scale of the $P'$ and $F*F'$ profiles will be adjusted to match these targets."
   ]
  },
  {
   "cell_type": "code",
   "execution_count": null,
   "id": "004f26bb-e5ef-4e70-a204-bbcdad9698e7",
   "metadata": {},
   "outputs": [],
   "source": []
  },
  {
   "cell_type": "markdown",
   "id": "aaac5490-16a2-4c31-9345-083e72048af9",
   "metadata": {},
   "source": [
    "### Initialize $\\psi$\n",
    "Before running a calculation for the first time we must initialize the flux function $\\psi$, which can be done using [init_psi](https://hansec.github.io/OpenFUSIONToolkit/docs/v1.0.0-beta4/classOpenFUSIONToolkit_1_1TokaMaker_1_1__core_1_1TokaMaker.html#ae532f03c0978180dbd5677e1432a9f7f). By default, this calculation uses a uniform current (equal to Ip_target) over the full plasma domain. Additional options are also availble to tailor this distribution for more control.\n",
    "\n",
    "While all the fields are set at this point the solution is not a true equilibrium."
   ]
  },
  {
   "cell_type": "code",
   "execution_count": null,
   "id": "55ae1747-5911-4759-a33e-da07f9c06a88",
   "metadata": {},
   "outputs": [],
   "source": []
  },
  {
   "cell_type": "markdown",
   "id": "e01785a7-6288-46ad-8e59-65e93f3116e7",
   "metadata": {},
   "source": [
    "### Compute Grad-Shafranov equilibrium\n",
    "Now we can compute the full equilibrium using [solve](https://hansec.github.io/OpenFUSIONToolkit/docs/v1.0.0-beta4/classOpenFUSIONToolkit_1_1TokaMaker_1_1__core_1_1TokaMaker.html#acae14bbdb859253db974e30b7c92be02).\n",
    "\n",
    "The output should show convergence of the residual (fourth column) as the nonlinear Grad-Shafranov equation is solved."
   ]
  },
  {
   "cell_type": "code",
   "execution_count": null,
   "id": "f2066f5e-be80-4f61-ae38-cb2e369d3bf7",
   "metadata": {},
   "outputs": [],
   "source": []
  },
  {
   "cell_type": "markdown",
   "id": "19b0b9d9-7788-403f-9038-3330ac693859",
   "metadata": {},
   "source": [
    "### Print information and plot equilibrium\n",
    "After computing the equilibrium, basic parameters can be displayed using the [print_info](https://hansec.github.io/OpenFUSIONToolkit/docs/v1.0.0-beta4/classOpenFUSIONToolkit_1_1TokaMaker_1_1__core_1_1TokaMaker.html#a46c8bde43e120175614bb373c18a970c) method. For access to these quantities as variables instead the [get_stats](https://hansec.github.io/OpenFUSIONToolkit/docs/v1.0.0-beta4/classOpenFUSIONToolkit_1_1TokaMaker_1_1__core_1_1TokaMaker.html#a30af13a91045f3a12a6a1f59239cce2b) can be used."
   ]
  },
  {
   "cell_type": "code",
   "execution_count": null,
   "id": "e371277b-5759-4cda-b279-000923b43936",
   "metadata": {},
   "outputs": [],
   "source": []
  },
  {
   "cell_type": "markdown",
   "id": "13b1620c-6f6c-46e7-beb7-82bdb8ba2082",
   "metadata": {},
   "source": [
    "Flux surfaces can be plotted using the [plot_psi](https://hansec.github.io/OpenFUSIONToolkit/docs/v1.0.0-beta4/classOpenFUSIONToolkit_1_1TokaMaker_1_1__core_1_1TokaMaker.html#a61550b8069c6e27d978fac742b620089) method."
   ]
  },
  {
   "cell_type": "code",
   "execution_count": null,
   "id": "0c27b7f1-316e-4c9e-be80-8981db932714",
   "metadata": {},
   "outputs": [],
   "source": []
  },
  {
   "cell_type": "markdown",
   "id": "5b65d2e2-2022-47d9-8693-574e54affeee",
   "metadata": {},
   "source": [
    "# Scanning peak pressure\n",
    "\n",
    "Before performing a scan we can turn off the progress printing from above by adjusting the `pm` setting to False and calling `update_settings()`."
   ]
  },
  {
   "cell_type": "code",
   "execution_count": null,
   "id": "c0f663cb-ab1f-4fac-844a-589785ade83a",
   "metadata": {},
   "outputs": [],
   "source": []
  },
  {
   "cell_type": "markdown",
   "id": "9e9fac8e-4ba1-4196-8441-b7bd02608cf0",
   "metadata": {},
   "source": [
    "Now we will perform a scan of plasma pressure by adjusting the `Ip_ratio` target. At each value we re-solve the G-S equation and plot the evolution of the magnetic axis location (stored in `o_point`), $\\beta_p$ (from `get_stats()`) and q-profile (from `get_q()`).\n",
    "\n",
    "As the peak pressure increases so does the plasma $\\beta$ and the shift of the magnetic axis from the geometric center of the LCFS. Additionally, the q-profile flattens as the plasma pressure increases, which is a consequence of the relative shape of the $P'$ and $F*F'$ profiles chosen above."
   ]
  },
  {
   "cell_type": "code",
   "execution_count": null,
   "id": "80e6d8db-c91e-4a86-8c73-a3f9da659ad8",
   "metadata": {},
   "outputs": [],
   "source": [
    "# Create figure\n",
    "fig, (r_ax, q_ax) = plt.subplots(2,1,constrained_layout=True)\n",
    "\n",
    "# Loop over a range of pressures\n",
    "for ratio_target_tmp in (20.0, 5.0,2.0,1.0,0.4,0.1,-0.1,-0.3):\n",
    "    \n",
    "    # Update targets and re-solve\n",
    "    mygs.set_targets(Ip=Ip_target, Ip_ratio=ratio_target_tmp)\n",
    "    err_flag = mygs.solve()\n",
    "    stats_dict = mygs.get_stats()\n",
    "\n",
    "    # Plot shift in magnetic axis\n",
    "    r_ax.plot(stats_dict['beta_pol'],(mygs.o_point[0]-R0)/r_minor,'o')\n",
    "    \n",
    "    # Plot evolution of q-profile\n",
    "    psi_q,qvals,_,_,_,_ = mygs.get_q()\n",
    "    q_ax.plot(psi_q,qvals,label=r'$\\beta_P = {0:.0f}\\%$'.format(stats_dict['beta_pol']))\n",
    "\n",
    "# Format plots\n",
    "q_ax.grid(True)\n",
    "q_ax.legend(loc='lower left',bbox_to_anchor=(1.0, 0.0))\n",
    "q_ax.set_ylim(bottom=1.0)\n",
    "q_ax.set_ylabel(r'Safety Factor')\n",
    "q_ax.set_xlabel(r'$\\hat{\\psi}$')\n",
    "r_ax.grid(True)\n",
    "r_ax.set_ylim(bottom=0.0)\n",
    "r_ax.set_xlim(left=0.0)\n",
    "r_ax.set_ylabel(r'$\\Delta R_0$ [%]')\n",
    "_ = r_ax.set_xlabel(r'$\\beta_p$ [%]')"
   ]
  },
  {
   "cell_type": "markdown",
   "id": "335abca3-b9e2-4c9d-881f-adda2e104cfc",
   "metadata": {},
   "source": [
    "# Choose your own adventure\n",
    "\n",
    " * What does the $\\beta_p$ vs `Ip_ratio` look like?\n",
    " * What does $\\Delta R_0$ vs $\\beta_p$ look like?\n",
    " * What is the maximum plasma current you can get with $q_{max} > 1$?\n",
    " * How does this change with the shape of the profiles?"
   ]
  }
 ],
 "metadata": {
  "kernelspec": {
   "display_name": "Python 3 (ipykernel)",
   "language": "python",
   "name": "python3"
  },
  "language_info": {
   "codemirror_mode": {
    "name": "ipython",
    "version": 3
   },
   "file_extension": ".py",
   "mimetype": "text/x-python",
   "name": "python",
   "nbconvert_exporter": "python",
   "pygments_lexer": "ipython3",
   "version": "3.11.9"
  }
 },
 "nbformat": 4,
 "nbformat_minor": 5
}
